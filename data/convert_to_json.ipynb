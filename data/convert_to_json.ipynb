{
 "cells": [
  {
   "cell_type": "code",
   "execution_count": 1,
   "metadata": {},
   "outputs": [],
   "source": [
    "import pandas as pd"
   ]
  },
  {
   "cell_type": "code",
   "execution_count": 2,
   "metadata": {},
   "outputs": [
    {
     "data": {
      "text/html": [
       "<div>\n",
       "<style scoped>\n",
       "    .dataframe tbody tr th:only-of-type {\n",
       "        vertical-align: middle;\n",
       "    }\n",
       "\n",
       "    .dataframe tbody tr th {\n",
       "        vertical-align: top;\n",
       "    }\n",
       "\n",
       "    .dataframe thead th {\n",
       "        text-align: right;\n",
       "    }\n",
       "</style>\n",
       "<table border=\"1\" class=\"dataframe\">\n",
       "  <thead>\n",
       "    <tr style=\"text-align: right;\">\n",
       "      <th></th>\n",
       "      <th>nb</th>\n",
       "      <th>Intent Name</th>\n",
       "      <th>Expressions</th>\n",
       "      <th>POSES</th>\n",
       "      <th>Magnitude</th>\n",
       "      <th>E_Start (%)</th>\n",
       "      <th>E_End (%)</th>\n",
       "      <th>E_Para</th>\n",
       "      <th>Gestures</th>\n",
       "      <th>G_Start</th>\n",
       "      <th>G_End</th>\n",
       "      <th>G_Para</th>\n",
       "    </tr>\n",
       "  </thead>\n",
       "  <tbody>\n",
       "    <tr>\n",
       "      <th>0</th>\n",
       "      <td>0</td>\n",
       "      <td>Default Welcome Intent</td>\n",
       "      <td>Happy</td>\n",
       "      <td>happy</td>\n",
       "      <td>0.85</td>\n",
       "      <td>20</td>\n",
       "      <td>80</td>\n",
       "      <td>NaN</td>\n",
       "      <td>NaN</td>\n",
       "      <td>NaN</td>\n",
       "      <td>NaN</td>\n",
       "      <td>NaN</td>\n",
       "    </tr>\n",
       "    <tr>\n",
       "      <th>1</th>\n",
       "      <td>1</td>\n",
       "      <td>(Q0.Fail) How are you - From fallback</td>\n",
       "      <td>Curious</td>\n",
       "      <td>engaged</td>\n",
       "      <td>1.00</td>\n",
       "      <td>20</td>\n",
       "      <td>80</td>\n",
       "      <td>NaN</td>\n",
       "      <td>NaN</td>\n",
       "      <td>NaN</td>\n",
       "      <td>NaN</td>\n",
       "      <td>NaN</td>\n",
       "    </tr>\n",
       "    <tr>\n",
       "      <th>2</th>\n",
       "      <td>2</td>\n",
       "      <td>(Q0.Success) How are you - Bad</td>\n",
       "      <td>Sad</td>\n",
       "      <td>worry</td>\n",
       "      <td>0.60</td>\n",
       "      <td>20</td>\n",
       "      <td>80</td>\n",
       "      <td>NaN</td>\n",
       "      <td>NaN</td>\n",
       "      <td>NaN</td>\n",
       "      <td>NaN</td>\n",
       "      <td>NaN</td>\n",
       "    </tr>\n",
       "    <tr>\n",
       "      <th>3</th>\n",
       "      <td>3</td>\n",
       "      <td>(Q0.Success) How are you - Good</td>\n",
       "      <td>Happy</td>\n",
       "      <td>happy</td>\n",
       "      <td>0.85</td>\n",
       "      <td>20</td>\n",
       "      <td>80</td>\n",
       "      <td>NaN</td>\n",
       "      <td>NaN</td>\n",
       "      <td>NaN</td>\n",
       "      <td>NaN</td>\n",
       "      <td>NaN</td>\n",
       "    </tr>\n",
       "    <tr>\n",
       "      <th>4</th>\n",
       "      <td>4</td>\n",
       "      <td>(Q1.Fail) Age - Doesn't know</td>\n",
       "      <td>Empathetic</td>\n",
       "      <td>recoil</td>\n",
       "      <td>0.75</td>\n",
       "      <td>20</td>\n",
       "      <td>80</td>\n",
       "      <td>NaN</td>\n",
       "      <td>NaN</td>\n",
       "      <td>NaN</td>\n",
       "      <td>NaN</td>\n",
       "      <td>NaN</td>\n",
       "    </tr>\n",
       "  </tbody>\n",
       "</table>\n",
       "</div>"
      ],
      "text/plain": [
       "   nb                            Intent Name Expressions    POSES  Magnitude  \\\n",
       "0   0                 Default Welcome Intent       Happy    happy       0.85   \n",
       "1   1  (Q0.Fail) How are you - From fallback     Curious  engaged       1.00   \n",
       "2   2         (Q0.Success) How are you - Bad         Sad    worry       0.60   \n",
       "3   3        (Q0.Success) How are you - Good       Happy    happy       0.85   \n",
       "4   4           (Q1.Fail) Age - Doesn't know  Empathetic   recoil       0.75   \n",
       "\n",
       "   E_Start (%)  E_End (%)  E_Para  Gestures  G_Start  G_End  G_Para  \n",
       "0           20         80     NaN       NaN      NaN    NaN     NaN  \n",
       "1           20         80     NaN       NaN      NaN    NaN     NaN  \n",
       "2           20         80     NaN       NaN      NaN    NaN     NaN  \n",
       "3           20         80     NaN       NaN      NaN    NaN     NaN  \n",
       "4           20         80     NaN       NaN      NaN    NaN     NaN  "
      ]
     },
     "execution_count": 2,
     "metadata": {},
     "output_type": "execute_result"
    }
   ],
   "source": [
    "df = pd.read_excel('./intent_emotion_mapping.xlsx')\n",
    "df.head()"
   ]
  },
  {
   "cell_type": "code",
   "execution_count": 9,
   "metadata": {},
   "outputs": [
    {
     "data": {
      "text/html": [
       "<div>\n",
       "<style scoped>\n",
       "    .dataframe tbody tr th:only-of-type {\n",
       "        vertical-align: middle;\n",
       "    }\n",
       "\n",
       "    .dataframe tbody tr th {\n",
       "        vertical-align: top;\n",
       "    }\n",
       "\n",
       "    .dataframe thead th {\n",
       "        text-align: right;\n",
       "    }\n",
       "</style>\n",
       "<table border=\"1\" class=\"dataframe\">\n",
       "  <thead>\n",
       "    <tr style=\"text-align: right;\">\n",
       "      <th></th>\n",
       "      <th>nb</th>\n",
       "      <th>Intent Name</th>\n",
       "      <th>Expressions</th>\n",
       "      <th>POSES</th>\n",
       "      <th>Magnitude</th>\n",
       "      <th>E_Start (%)</th>\n",
       "      <th>E_End (%)</th>\n",
       "      <th>E_Para</th>\n",
       "      <th>Gestures</th>\n",
       "      <th>G_Start</th>\n",
       "      <th>G_End</th>\n",
       "      <th>G_Para</th>\n",
       "    </tr>\n",
       "  </thead>\n",
       "  <tbody>\n",
       "    <tr>\n",
       "      <th>0</th>\n",
       "      <td>0</td>\n",
       "      <td>Default Welcome Intent</td>\n",
       "      <td>Happy</td>\n",
       "      <td>happy</td>\n",
       "      <td>0.85</td>\n",
       "      <td>20</td>\n",
       "      <td>80</td>\n",
       "      <td>NaN</td>\n",
       "      <td>NaN</td>\n",
       "      <td>NaN</td>\n",
       "      <td>NaN</td>\n",
       "      <td>NaN</td>\n",
       "    </tr>\n",
       "  </tbody>\n",
       "</table>\n",
       "</div>"
      ],
      "text/plain": [
       "   nb             Intent Name Expressions  POSES  Magnitude  E_Start (%)  \\\n",
       "0   0  Default Welcome Intent       Happy  happy       0.85           20   \n",
       "\n",
       "   E_End (%)  E_Para  Gestures  G_Start  G_End  G_Para  \n",
       "0         80     NaN       NaN      NaN    NaN     NaN  "
      ]
     },
     "execution_count": 9,
     "metadata": {},
     "output_type": "execute_result"
    }
   ],
   "source": [
    "intent_name = \"Default Welcome Intent\"\n",
    "df[df[\"Intent Name\"] == intent_name]"
   ]
  },
  {
   "cell_type": "code",
   "execution_count": 17,
   "metadata": {},
   "outputs": [],
   "source": [
    "def lookup_table(df:pd.DataFrame, intent_name:str):\n",
    "    df_line = df[df[\"Intent Name\"] == intent_name]\n",
    "    lookup_result = {}\n",
    "\n",
    "    lookup_result['expressions'] = df_line[\"POSES\"].item()\n",
    "    lookup_result['exp_start'] = df_line[\"E_Start (%)\"].item()/100\n",
    "    lookup_result['exp_end'] = df_line[\"E_End (%)\"].item()/100\n",
    "    lookup_result['exp_mag'] = df_line[\"Magnitude\"].item()\n",
    "    return lookup_result\n",
    "    "
   ]
  },
  {
   "cell_type": "code",
   "execution_count": 18,
   "metadata": {},
   "outputs": [
    {
     "data": {
      "text/plain": [
       "{'expressions': 'happy', 'exp_start': 20, 'exp_end': 80, 'exp_mag': 0.85}"
      ]
     },
     "execution_count": 18,
     "metadata": {},
     "output_type": "execute_result"
    }
   ],
   "source": [
    "lookup_table(df, intent_name)"
   ]
  },
  {
   "cell_type": "code",
   "execution_count": null,
   "metadata": {},
   "outputs": [],
   "source": []
  }
 ],
 "metadata": {
  "kernelspec": {
   "display_name": "venv",
   "language": "python",
   "name": "python3"
  },
  "language_info": {
   "codemirror_mode": {
    "name": "ipython",
    "version": 3
   },
   "file_extension": ".py",
   "mimetype": "text/x-python",
   "name": "python",
   "nbconvert_exporter": "python",
   "pygments_lexer": "ipython3",
   "version": "3.9.5"
  },
  "orig_nbformat": 4
 },
 "nbformat": 4,
 "nbformat_minor": 2
}
